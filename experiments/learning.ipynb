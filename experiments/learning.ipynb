{
 "cells": [
  {
   "cell_type": "code",
   "execution_count": 146,
   "metadata": {
    "pycharm": {
     "is_executing": false
    }
   },
   "outputs": [
    {
     "name": "stdout",
     "text": [
      "The autoreload extension is already loaded. To reload it, use:\n  %reload_ext autoreload\n"
     ],
     "output_type": "stream"
    }
   ],
   "source": [
    "%load_ext autoreload\n",
    "%autoreload 2\n",
    "%reload_ext autoreload\n",
    "\n",
    "from rllib.agent import RandomAgent\n",
    "from rllib.policy import RandomPolicy\n",
    "from rllib.util import rollout_policy, rollout_agent\n",
    "from rllib.dataset import TrajectoryDataset\n",
    "\n",
    "from rllib.environment.systems import InvertedPendulum, CartPole\n",
    "from rllib.environment import SystemEnvironment, GymEnvironment\n",
    "import numpy as np \n",
    "from torch.utils.data import DataLoader\n",
    "import torch\n"
   ]
  },
  {
   "cell_type": "code",
   "execution_count": 147,
   "metadata": {
    "pycharm": {
     "is_executing": false,
     "name": "#%%\n"
    }
   },
   "outputs": [],
   "source": [
    "def termination_func(state):\n",
    "    return np.abs(state[..., 0]) >= np.deg2rad(45)\n",
    "\n",
    "def reward_func(state, action):\n",
    "    return np.exp(-0.5 / (0.2 ** 2) * state[..., 0] ** 2)  \n",
    "\n",
    "system = InvertedPendulum(mass=0.3, length=0.5, friction=0.005)\n",
    "# system = CartPole(pendulum_mass=0.3, cart_mass=1, \n",
    "#                   length=0.5, rot_friction=0.005)\n",
    "# \n",
    "initial_state = np.array([np.deg2rad(20), 0.])\n",
    "# \n",
    "environment = SystemEnvironment(system, initial_state=initial_state, max_steps=50)\n",
    "# environment = GymEnvironment('Pendulum-v0')\n",
    "\n",
    "policy = RandomPolicy(dim_action=environment.dim_action, dim_state=environment.dim_observation,\n",
    "                      num_action=environment.num_action\n",
    "                      )\n",
    "\n",
    "agent = RandomAgent(dim_action=environment.dim_action, dim_state=environment.dim_observation,\n",
    "                    num_action=environment.num_action\n",
    "                    )\n",
    "\n",
    "dataset = TrajectoryDataset(sequence_length=4)\n",
    "dataloader = DataLoader(dataset, batch_size=32, num_workers=0)\n"
   ]
  },
  {
   "cell_type": "code",
   "execution_count": 148,
   "metadata": {
    "pycharm": {
     "is_executing": false,
     "name": "#%%\n"
    }
   },
   "outputs": [
    {
     "name": "stdout",
     "text": [
      "50\n50\n50\n50\n50\n50\n50\n50\n50\n50\n"
     ],
     "output_type": "stream"
    }
   ],
   "source": [
    "for episode in range(10):\n",
    "    trajectory = rollout_policy(environment, policy)\n",
    "    dataset.append(trajectory)\n",
    "    print(len(trajectory))\n",
    "    \n",
    "for episode in range(10):\n",
    "    rollout_agent(environment, agent)\n"
   ]
  },
  {
   "cell_type": "code",
   "execution_count": 149,
   "metadata": {
    "pycharm": {
     "name": "#%%\n",
     "is_executing": false
    }
   },
   "outputs": [
    {
     "name": "stdout",
     "text": [
      "torch.Size([32, 4, 2])\n0\ntorch.Size([32, 4, 2])\n1\n"
     ],
     "output_type": "stream"
    }
   ],
   "source": [
    "dataset.shuffle()\n",
    "dataloader = DataLoader(dataset, batch_size=32, num_workers=0, shuffle=False)\n",
    "states = []\n",
    "for epoch in range(2):\n",
    "    for observation in dataloader:\n",
    "        state, action, reward, next_state, done = observation\n",
    "        print(state.shape)\n",
    "        states.append(state)\n",
    "        print(epoch)\n",
    "        break \n",
    "    "
   ]
  },
  {
   "cell_type": "code",
   "execution_count": 150,
   "metadata": {
    "pycharm": {
     "is_executing": false
    }
   },
   "outputs": [
    {
     "name": "stdout",
     "text": [
      "tensor([[[ 0.8317,  3.5919],\n         [ 0.8691,  3.9002],\n         [ 0.9086,  3.9996],\n         [ 0.9493,  4.1376]],\n\n        [[ 1.1152,  4.5441],\n         [ 1.1621,  4.8529],\n         [ 1.2106,  4.8297],\n         [ 1.2590,  4.8547]],\n\n        [[ 0.3809,  0.4908],\n         [ 0.3863,  0.5896],\n         [ 0.3917,  0.4962],\n         [ 0.3974,  0.6417]],\n\n        [[ 0.6748,  2.7309],\n         [ 0.7027,  2.8356],\n         [ 0.7314,  2.9121],\n         [ 0.7615,  3.1173]],\n\n        [[ 1.1244,  4.1043],\n         [ 1.1670,  4.4091],\n         [ 1.2125,  4.7028],\n         [ 1.2603,  4.8491]],\n\n        [[ 0.3501, -0.0806],\n         [ 0.3499,  0.0444],\n         [ 0.3517,  0.3038],\n         [ 0.3546,  0.2838]],\n\n        [[ 0.4634,  1.6257],\n         [ 0.4805,  1.7833],\n         [ 0.4995,  2.0220],\n         [ 0.5192,  1.9284]],\n\n        [[ 0.4588,  1.6080],\n         [ 0.4757,  1.7708],\n         [ 0.4929,  1.6824],\n         [ 0.5102,  1.7673]],\n\n        [[ 0.3568,  0.4183],\n         [ 0.3615,  0.5222],\n         [ 0.3667,  0.5113],\n         [ 0.3731,  0.7653]],\n\n        [[ 0.9777,  3.4494],\n         [ 1.0116,  3.3296],\n         [ 1.0468,  3.7044],\n         [ 1.0846,  3.8619]],\n\n        [[ 0.4335,  1.2015],\n         [ 0.4464,  1.3707],\n         [ 0.4599,  1.3311],\n         [ 0.4730,  1.2878]],\n\n        [[ 0.4851,  1.7332],\n         [ 0.5049,  2.2318],\n         [ 0.5289,  2.5533],\n         [ 0.5553,  2.7363]],\n\n        [[ 0.5504,  1.5671],\n         [ 0.5668,  1.7178],\n         [ 0.5849,  1.9037],\n         [ 0.6033,  1.7767]],\n\n        [[ 0.3565,  0.3848],\n         [ 0.3611,  0.5323],\n         [ 0.3679,  0.8116],\n         [ 0.3764,  0.8931]],\n\n        [[ 0.3861,  1.0618],\n         [ 0.3973,  1.1659],\n         [ 0.4098,  1.3316],\n         [ 0.4220,  1.1113]],\n\n        [[ 0.3544,  0.3780],\n         [ 0.3586,  0.4502],\n         [ 0.3628,  0.4058],\n         [ 0.3678,  0.5889]],\n\n        [[ 0.3491,  0.0000],\n         [ 0.3497,  0.1278],\n         [ 0.3506,  0.0582],\n         [ 0.3517,  0.1600]],\n\n        [[ 1.3256,  6.3434],\n         [ 1.3900,  6.5246],\n         [ 1.4558,  6.6391],\n         [ 1.5236,  6.9260]],\n\n        [[ 0.7005,  1.8217],\n         [ 0.7191,  1.8927],\n         [ 0.7395,  2.1964],\n         [ 0.7616,  2.2161]],\n\n        [[ 0.6015,  1.9795],\n         [ 0.6224,  2.1934],\n         [ 0.6459,  2.5160],\n         [ 0.6726,  2.8286]],\n\n        [[ 0.3500,  0.1868],\n         [ 0.3521,  0.2304],\n         [ 0.3554,  0.4304],\n         [ 0.3599,  0.4816]],\n\n        [[ 0.4354,  0.9212],\n         [ 0.4446,  0.9312],\n         [ 0.4540,  0.9483],\n         [ 0.4640,  1.0583]],\n\n        [[ 1.2125,  4.7028],\n         [ 1.2603,  4.8491],\n         [ 1.3115,  5.3875],\n         [ 1.3666,  5.6343]],\n\n        [[ 0.5393,  2.0837],\n         [ 0.5610,  2.2613],\n         [ 0.5850,  2.5446],\n         [ 0.6112,  2.6940]],\n\n        [[ 0.7448,  2.7243],\n         [ 0.7723,  2.7654],\n         [ 0.7996,  2.6931],\n         [ 0.8268,  2.7561]],\n\n        [[ 0.6378,  2.6214],\n         [ 0.6651,  2.8347],\n         [ 0.6920,  2.5542],\n         [ 0.7180,  2.6429]],\n\n        [[ 0.8937,  3.0248],\n         [ 0.9246,  3.1543],\n         [ 0.9567,  3.2619],\n         [ 0.9897,  3.3404]],\n\n        [[ 1.1785,  4.4127],\n         [ 1.2230,  4.5018],\n         [ 1.2686,  4.6089],\n         [ 1.3157,  4.8166]],\n\n        [[ 0.7996,  3.0993],\n         [ 0.8308,  3.1405],\n         [ 0.8632,  3.3520],\n         [ 0.8975,  3.5081]],\n\n        [[ 0.5206,  1.2528],\n         [ 0.5345,  1.5190],\n         [ 0.5504,  1.6797],\n         [ 0.5676,  1.7617]],\n\n        [[ 0.9372,  3.2385],\n         [ 0.9700,  3.3201],\n         [ 1.0044,  3.5619],\n         [ 1.0416,  3.8899]],\n\n        [[ 0.6848,  2.7362],\n         [ 0.7125,  2.8184],\n         [ 0.7404,  2.7631],\n         [ 0.7692,  2.9846]]])\n"
     ],
     "output_type": "stream"
    }
   ],
   "source": [
    "print(state)"
   ]
  },
  {
   "cell_type": "code",
   "execution_count": null,
   "metadata": {},
   "outputs": [],
   "source": []
  }
 ],
 "metadata": {
  "kernelspec": {
   "display_name": "Python 3",
   "language": "python",
   "name": "python3"
  },
  "language_info": {
   "codemirror_mode": {
    "name": "ipython",
    "version": 3
   },
   "file_extension": ".py",
   "mimetype": "text/x-python",
   "name": "python",
   "nbconvert_exporter": "python",
   "pygments_lexer": "ipython3",
   "version": "3.6.8"
  },
  "pycharm": {
   "stem_cell": {
    "cell_type": "raw",
    "source": [],
    "metadata": {
     "collapsed": false
    }
   }
  }
 },
 "nbformat": 4,
 "nbformat_minor": 1
}