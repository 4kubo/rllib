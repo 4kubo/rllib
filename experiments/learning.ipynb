{
 "cells": [
  {
   "cell_type": "code",
   "execution_count": 124,
   "metadata": {
    "pycharm": {
     "is_executing": false
    }
   },
   "outputs": [
    {
     "name": "stdout",
     "text": [
      "The autoreload extension is already loaded. To reload it, use:\n  %reload_ext autoreload\n"
     ],
     "output_type": "stream"
    }
   ],
   "source": [
    "%load_ext autoreload\n",
    "%autoreload 2\n",
    "%reload_ext autoreload\n",
    "\n",
    "from rllib.agent import RandomAgent\n",
    "from rllib.policy import RandomPolicy\n",
    "from rllib.util import rollout_policy, rollout_agent\n",
    "from rllib.dataset import TrajectoryDataset\n",
    "\n",
    "from rllib.environment.systems import InvertedPendulum, CartPole\n",
    "from rllib.environment import SystemEnvironment, GymEnvironment\n",
    "import numpy as np \n",
    "from torch.utils.data import DataLoader\n",
    "import torch\n"
   ]
  },
  {
   "cell_type": "code",
   "execution_count": 137,
   "metadata": {
    "pycharm": {
     "is_executing": false,
     "name": "#%%\n"
    }
   },
   "outputs": [],
   "source": [
    "def termination_func(state):\n",
    "    return np.abs(state[..., 0]) >= np.deg2rad(45)\n",
    "\n",
    "def reward_func(state, action):\n",
    "    return np.exp(-0.5 / (0.2 ** 2) * state[..., 0] ** 2)  \n",
    "\n",
    "system = InvertedPendulum(mass=0.3, length=0.5, friction=0.005)\n",
    "# system = CartPole(pendulum_mass=0.3, cart_mass=1, \n",
    "#                   length=0.5, rot_friction=0.005)\n",
    "# \n",
    "initial_state = np.array([np.deg2rad(20), 0.])\n",
    "# \n",
    "environment = SystemEnvironment(system, initial_state=initial_state, max_steps=50)\n",
    "# environment = GymEnvironment('Pendulum-v0')\n",
    "\n",
    "policy = RandomPolicy(dim_action=environment.dim_action, dim_state=environment.dim_observation,\n",
    "                      num_action=environment.num_action\n",
    "                      )\n",
    "\n",
    "agent = RandomAgent(dim_action=environment.dim_action, dim_state=environment.dim_observation,\n",
    "                    num_action=environment.num_action\n",
    "                    )\n",
    "\n",
    "dataset = TrajectoryDataset(sequence_length=4)\n",
    "dataloader = DataLoader(dataset, batch_size=32, num_workers=0)\n"
   ]
  },
  {
   "cell_type": "code",
   "execution_count": 138,
   "metadata": {
    "pycharm": {
     "is_executing": false,
     "name": "#%%\n"
    }
   },
   "outputs": [
    {
     "name": "stdout",
     "text": [
      "50\n50\n50\n50\n50\n50\n50\n50\n50\n50\n"
     ],
     "output_type": "stream"
    }
   ],
   "source": [
    "for episode in range(10):\n",
    "    trajectory = rollout_policy(environment, policy)\n",
    "    dataset.append(trajectory)\n",
    "    print(len(trajectory))\n",
    "    \n",
    "for episode in range(10):\n",
    "    rollout_agent(environment, agent)\n"
   ]
  },
  {
   "cell_type": "code",
   "execution_count": 140,
   "metadata": {
    "pycharm": {
     "name": "#%%\n",
     "is_executing": false
    }
   },
   "outputs": [
    {
     "name": "stdout",
     "text": [
      "torch.Size([32, 4, 2])\n0\ntorch.Size([32, 4, 2])\n1\n"
     ],
     "output_type": "stream"
    }
   ],
   "source": [
    "dataset.shuffle()\n",
    "dataloader = DataLoader(dataset, batch_size=32, num_workers=0, shuffle=False)\n",
    "states = []\n",
    "for epoch in range(2):\n",
    "    for observation in dataloader:\n",
    "        state, action, reward, next_state, done = observation\n",
    "        print(state.shape)\n",
    "        states.append(state)\n",
    "        print(epoch)\n",
    "        break \n",
    "    "
   ]
  },
  {
   "cell_type": "code",
   "execution_count": 145,
   "metadata": {
    "pycharm": {
     "is_executing": false
    }
   },
   "outputs": [
    {
     "name": "stdout",
     "text": [
      "tensor([[[ 0.6238,  2.3849],\n         [ 0.6495,  2.7492],\n         [ 0.6769,  2.7343],\n         [ 0.7050,  2.8828]],\n\n        [[ 1.0919,  3.9832],\n         [ 1.1337,  4.3679],\n         [ 1.1779,  4.4898],\n         [ 1.2234,  4.6046]],\n\n        [[ 0.7327,  2.6738],\n         [ 0.7600,  2.7834],\n         [ 0.7898,  3.1786],\n         [ 0.8224,  3.3493]],\n\n        [[ 0.3647,  0.1089],\n         [ 0.3659,  0.1137],\n         [ 0.3669,  0.0882],\n         [ 0.3689,  0.3151]],\n\n        [[ 0.4745,  1.4174],\n         [ 0.4890,  1.4870],\n         [ 0.5041,  1.5326],\n         [ 0.5204,  1.7345]],\n\n        [[ 0.7221,  2.7507],\n         [ 0.7502,  2.8561],\n         [ 0.7789,  2.9021],\n         [ 0.8085,  3.0069]],\n\n        [[ 0.3849,  0.9128],\n         [ 0.3935,  0.8232],\n         [ 0.4024,  0.9533],\n         [ 0.4127,  1.1093]],\n\n        [[ 0.4338,  1.3746],\n         [ 0.4479,  1.4332],\n         [ 0.4626,  1.5067],\n         [ 0.4771,  1.4092]],\n\n        [[ 0.3831,  0.9771],\n         [ 0.3927,  0.9501],\n         [ 0.4034,  1.1821],\n         [ 0.4146,  1.0510]],\n\n        [[ 1.1603,  4.0969],\n         [ 1.2021,  4.2799],\n         [ 1.2453,  4.3551],\n         [ 1.2909,  4.7538]],\n\n        [[ 0.3492, -0.0252],\n         [ 0.3502,  0.2373],\n         [ 0.3533,  0.3845],\n         [ 0.3571,  0.3662]],\n\n        [[ 0.4203,  0.9909],\n         [ 0.4314,  1.2379],\n         [ 0.4445,  1.3739],\n         [ 0.4586,  1.4531]],\n\n        [[ 0.3462, -0.1276],\n         [ 0.3445, -0.2263],\n         [ 0.3418, -0.3047],\n         [ 0.3379, -0.4795]],\n\n        [[ 0.4667,  0.9746],\n         [ 0.4766,  1.0083],\n         [ 0.4856,  0.7853],\n         [ 0.4939,  0.8828]],\n\n        [[ 1.0041,  4.0634],\n         [ 1.0452,  4.1626],\n         [ 1.0872,  4.2383],\n         [ 1.1297,  4.2575]],\n\n        [[ 0.6674,  2.2217],\n         [ 0.6909,  2.4698],\n         [ 0.7152,  2.3991],\n         [ 0.7406,  2.6722]],\n\n        [[ 0.3865,  0.7013],\n         [ 0.3934,  0.6968],\n         [ 0.4002,  0.6547],\n         [ 0.4064,  0.5895]],\n\n        [[ 1.1616,  4.4028],\n         [ 1.2063,  4.5232],\n         [ 1.2520,  4.6342],\n         [ 1.2997,  4.8888]],\n\n        [[ 0.3491,  0.0000],\n         [ 0.3489, -0.0247],\n         [ 0.3486, -0.0354],\n         [ 0.3491,  0.1296]],\n\n        [[ 0.5870,  1.8248],\n         [ 0.6055,  1.8791],\n         [ 0.6247,  1.9640],\n         [ 0.6446,  2.0071]],\n\n        [[ 1.1976,  5.0998],\n         [ 1.2495,  5.2926],\n         [ 1.3034,  5.4714],\n         [ 1.3590,  5.6516]],\n\n        [[ 0.3517,  0.1382],\n         [ 0.3537,  0.2452],\n         [ 0.3576,  0.5418],\n         [ 0.3629,  0.5183]],\n\n        [[ 0.3585,  0.5198],\n         [ 0.3651,  0.7878],\n         [ 0.3723,  0.6553],\n         [ 0.3795,  0.7973]],\n\n        [[ 0.3491,  0.0000],\n         [ 0.3486, -0.0987],\n         [ 0.3484,  0.0624],\n         [ 0.3484, -0.0563]],\n\n        [[ 0.3486,  0.0840],\n         [ 0.3501,  0.2285],\n         [ 0.3525,  0.2547],\n         [ 0.3555,  0.3337]],\n\n        [[ 0.4141,  0.8761],\n         [ 0.4233,  0.9615],\n         [ 0.4321,  0.7957],\n         [ 0.4390,  0.6002]],\n\n        [[ 1.0872,  4.2383],\n         [ 1.1297,  4.2575],\n         [ 1.1726,  4.3304],\n         [ 1.2155,  4.2420]],\n\n        [[ 0.4910,  1.3682],\n         [ 0.5055,  1.5234],\n         [ 0.5222,  1.8154],\n         [ 0.5412,  1.9887]],\n\n        [[ 0.3491,  0.0000],\n         [ 0.3499,  0.1748],\n         [ 0.3517,  0.1790],\n         [ 0.3534,  0.1685]],\n\n        [[ 0.6886,  2.3780],\n         [ 0.7129,  2.4845],\n         [ 0.7386,  2.6662],\n         [ 0.7665,  2.9027]],\n\n        [[ 0.3806,  0.7159],\n         [ 0.3891,  0.9882],\n         [ 0.3994,  1.0698],\n         [ 0.4100,  1.0573]],\n\n        [[ 0.3720,  0.6160],\n         [ 0.3783,  0.6416],\n         [ 0.3848,  0.6485],\n         [ 0.3908,  0.5640]]])\n"
     ],
     "output_type": "stream"
    }
   ],
   "source": [
    "print(state)"
   ]
  },
  {
   "cell_type": "code",
   "execution_count": null,
   "metadata": {},
   "outputs": [],
   "source": []
  }
 ],
 "metadata": {
  "kernelspec": {
   "display_name": "Python 3",
   "language": "python",
   "name": "python3"
  },
  "language_info": {
   "codemirror_mode": {
    "name": "ipython",
    "version": 3
   },
   "file_extension": ".py",
   "mimetype": "text/x-python",
   "name": "python",
   "nbconvert_exporter": "python",
   "pygments_lexer": "ipython3",
   "version": "3.6.8"
  },
  "pycharm": {
   "stem_cell": {
    "cell_type": "raw",
    "source": [],
    "metadata": {
     "collapsed": false
    }
   }
  }
 },
 "nbformat": 4,
 "nbformat_minor": 1
}