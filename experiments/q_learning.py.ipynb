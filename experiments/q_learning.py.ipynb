{
 "cells": [
  {
   "cell_type": "code",
   "execution_count": 160,
   "metadata": {
    "collapsed": true,
    "pycharm": {
     "is_executing": false
    }
   },
   "outputs": [
    {
     "name": "stdout",
     "text": [
      "The autoreload extension is already loaded. To reload it, use:\n  %reload_ext autoreload\n"
     ],
     "output_type": "stream"
    }
   ],
   "source": [
    "%load_ext autoreload\n",
    "%autoreload 2\n",
    "%reload_ext autoreload\n",
    "from IPython import display\n",
    "import matplotlib\n",
    "import matplotlib.pyplot as plt\n",
    "\n",
    "from rllib.agent import QLearningAgent\n",
    "from rllib.util import rollout_agent\n",
    "from rllib.util.neural_networks import DeterministicNN\n",
    "from rllib.dataset import ExperienceReplay, Observation\n",
    "from rllib.exploration_strategies import EpsGreedy\n",
    "from rllib.environment.systems import InvertedPendulum, CartPole\n",
    "from rllib.environment import SystemEnvironment, GymEnvironment\n",
    "import numpy as np \n",
    "\n",
    "import torch.nn.functional as func\n",
    "import torch.optim  \n",
    "\n"
   ]
  },
  {
   "cell_type": "code",
   "execution_count": 162,
   "outputs": [],
   "source": [
    "ENVIRONMENT = 'CartPole-v0'\n",
    "NUM_EPISODES = 30\n",
    "TARGET_UPDATE = 4\n",
    "MEMORY_MAX_SIZE = 10000\n",
    "BATCH_SIZE = 128\n",
    "GAMMA = 0.999\n",
    "EPS_START = 0.9\n",
    "EPS_END = 0.05\n",
    "EPS_DECAY = 200\n",
    "LAYERS = [32, 32]\n",
    "\n",
    "environment = GymEnvironment(ENVIRONMENT)\n",
    "exploration = EpsGreedy(EPS_START, EPS_END, EPS_DECAY) \n",
    "\n",
    "q_function = DeterministicNN(environment.dim_state, environment.num_action, layers=LAYERS)\n",
    "q_target = DeterministicNN(environment.dim_state, environment.num_action, layers=LAYERS)\n",
    "optimizer = torch.optim.Adam\n",
    "criterion = func.smooth_l1_loss\n",
    "memory = ExperienceReplay(max_len=MEMORY_MAX_SIZE)\n",
    "\n",
    "hyper_params = {\n",
    "    'target_update': TARGET_UPDATE,\n",
    "    'batch_size': BATCH_SIZE, \n",
    "    'gamma': GAMMA\n",
    "}\n",
    "\n",
    "agent = QLearningAgent(q_function, q_target, exploration, criterion, optimizer, memory,\n",
    "                 hyper_params\n",
    ")\n"
   ],
   "metadata": {
    "collapsed": false,
    "pycharm": {
     "name": "#%%\n",
     "is_executing": false
    }
   }
  },
  {
   "cell_type": "code",
   "execution_count": 165,
   "outputs": [
    {
     "name": "stdout",
     "text": [
      "[0, 0, 12, 14, 10, 15, 13, 26, 9, 12, 15, 10, 11, 10, 10, 13, 14, 11, 14, 11, 12, 13, 11, 10, 11, 10, 10, 10, 12, 10, 12, 10]\n"
     ],
     "output_type": "stream"
    },
    {
     "data": {
      "text/plain": "<Figure size 432x288 with 1 Axes>",
      "image/png": "[encoded data removed]"
     },
     "metadata": {
      "needs_background": "light"
     },
     "output_type": "display_data"
    }
   ],
   "source": [
    "rollout_agent(environment, agent, num_episodes=NUM_EPISODES)\n",
    "    # state = environment.reset()\n",
    "    # done = False\n",
    "    # t = 0\n",
    "    # while not done:\n",
    "    #     total_steps += 1\n",
    "    #     t += 1\n",
    "    #     action = q_function(torch.from_numpy(state).float()).argmax().item()\n",
    "    #     eps = EPS_END + (EPS_START - EPS_END) * np.exp(-1. * total_steps / EPS_DECAY)\n",
    "    # \n",
    "    #     if np.random.rand() < eps:\n",
    "    #         action = np.random.choice(environment.num_action)\n",
    "    #         \n",
    "    #     next_state, reward, done, _ = environment.step(action) \n",
    "    #     memory.append(Observation(state=state, \n",
    "    #                               action=action, \n",
    "    #                               next_state=next_state,\n",
    "    #                               reward=reward,\n",
    "    #                               done=done\n",
    "    #                               ))\n",
    "    #     state = next_state\n",
    "    #     \n",
    "    #     if len(memory) > BATCH_SIZE:\n",
    "    #         memory.shuffle()\n",
    "    #         for (state_, action_, reward_, next_state_, done_) in data_loader:\n",
    "    #             optimizer.zero_grad()\n",
    "    #             \n",
    "    #             predicted_value = GAMMA * q_function(state_.float()).gather(1, action_.unsqueeze(-1))\n",
    "    #             predicted_value += reward_.float().unsqueeze(-1)\n",
    "    #             \n",
    "    #             next_state_value = q_target_function(next_state_.float()).max(dim=-1, keepdim=True)[0]\n",
    "    #             next_state_value[done_] = 0\n",
    "    #             \n",
    "    #             loss = criterion(predicted_value, next_state_value)\n",
    "    # \n",
    "    #             loss.backward()\n",
    "    #             optimizer.step()\n",
    "    #             break\n",
    "    # \n",
    "    # if i_episode % TARGET_UPDATE == 0:\n",
    "    #     q_target_function.load_state_dict(q_function.state_dict())           \n",
    "    # episode_durations.append(t)\n",
    "    \n",
    "plt.figure(1)\n",
    "plt.plot(agent._statistics['episode_steps'])\n",
    "plt.xlabel('Episode')\n",
    "plt.ylabel('Duration') \n",
    "plt.show()"
   ],
   "metadata": {
    "collapsed": false,
    "pycharm": {
     "name": "#%%\n",
     "is_executing": false
    }
   }
  },
  {
   "cell_type": "code",
   "execution_count": null,
   "outputs": [],
   "source": [
    "\n"
   ],
   "metadata": {
    "collapsed": false,
    "pycharm": {
     "name": "#%%\n"
    }
   }
  }
 ],
 "metadata": {
  "language_info": {
   "codemirror_mode": {
    "name": "ipython",
    "version": 2
   },
   "file_extension": ".py",
   "mimetype": "text/x-python",
   "name": "python",
   "nbconvert_exporter": "python",
   "pygments_lexer": "ipython2",
   "version": "2.7.6"
  },
  "kernelspec": {
   "name": "python3",
   "language": "python",
   "display_name": "Python 3"
  },
  "pycharm": {
   "stem_cell": {
    "cell_type": "raw",
    "source": [],
    "metadata": {
     "collapsed": false
    }
   }
  }
 },
 "nbformat": 4,
 "nbformat_minor": 0
}